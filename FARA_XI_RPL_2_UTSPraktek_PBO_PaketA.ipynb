{
  "nbformat": 4,
  "nbformat_minor": 0,
  "metadata": {
    "colab": {
      "provenance": [],
      "include_colab_link": true
    },
    "kernelspec": {
      "name": "python3",
      "display_name": "Python 3"
    },
    "language_info": {
      "name": "python"
    }
  },
  "cells": [
    {
      "cell_type": "markdown",
      "metadata": {
        "id": "view-in-github",
        "colab_type": "text"
      },
      "source": [
        "<a href=\"https://colab.research.google.com/github/farraazzura/latihan-coding-fara-XI/blob/main/FARA_XI_RPL_2_UTSPraktek_PBO_PaketA.ipynb\" target=\"_parent\"><img src=\"https://colab.research.google.com/assets/colab-badge.svg\" alt=\"Open In Colab\"/></a>"
      ]
    },
    {
      "cell_type": "markdown",
      "source": [
        "**Sistem Manajemen Buku Perpustakaan**\n",
        "\n",
        "Anda adalah seorang pengembang perangkat lunak yang bekerja untuk perpustakaan besar. Perpustakaan ini memiliki kelas induk Buku dengan atribut berikut:\n",
        "*   kode unik\n",
        "*   judul\n",
        "*   nama pengarang\n",
        "*   tahun terbit\n",
        "\n",
        "Selain itu, perpustakaan ini memiliki dua jenis buku spesifik yaitu Fiksi dan Non Fiksi\n",
        "\n",
        "Buku fiksi memiliki atribut tambahan genre (genre atau jenis fiksi buku, misalnya, roman, fantasi, dll.)\n",
        "\n",
        "Sementara buku non-fiksi memiliki atribut tambahan subjek (subjek atau topik buku non-fiksi, misalnya, sejarah, sains, dll.)\n",
        "\n",
        "Manajemen perpustakaan ingin Anda membuat program Python yang memungkinkan mereka untuk mencetak informasi tentang setiap buku, termasuk kode buku, judul, pengarang, tahun terbit, serta atribut tambahan yang sesuai (genre atau subjek).\n",
        "\n",
        "Buatlah program yang terdiri dari class-class yang dibutuhkan dan program utama yang digunakan untuk menjalankan class-class yang telah dibuat.\n",
        "\n",
        "Selamat mengerjakan!"
      ],
      "metadata": {
        "id": "JXbejHFnmH53"
      }
    },
    {
      "cell_type": "code",
      "execution_count": null,
      "metadata": {
        "id": "8oo4WH4vlUD2"
      },
      "outputs": [],
      "source": [
        "#Class Buku\n",
        "class Buku:\n",
        " def __init__(self, kode_unik, judul, nama_pengarang, tahun_terbit):\n",
        "   self.kode_unik = kode_unik\n",
        "   self.judul = judul\n",
        "   self.nama_pengarang = nama_pengarang\n",
        "   self.tahun_terbit = tahun_terbit\n",
        "\n",
        "#buatlah fungsi deskripsi\n",
        " def deskripsi(self):\n",
        "   print('kode unik buku ', self.kode_unik, 'dengan judul', self.judul, 'dan nama pengarang', self.nama_pengarang, 'terbit pada tahun', self.tahun_terbit )"
      ]
    },
    {
      "cell_type": "code",
      "source": [
        "#Class Fiksi\n",
        "class Fiksi(Buku):\n",
        " def __init__(self, kode_unik, judul, nama_pengarang, tahun_terbit, genre):\n",
        "  super().__init__(kode_unik, judul, nama_pengarang, tahun_terbit)\n",
        "  self.genre = genre\n",
        "\n",
        "#panggil fungsi deskripsi dari induk dan  override kan lah metode deskripsi\n",
        " def deskripsi(self):\n",
        "  super().deskripsi()\n",
        "  print('--> bergenre', self.genre)"
      ],
      "metadata": {
        "id": "DNoM9kespfIA"
      },
      "execution_count": null,
      "outputs": []
    },
    {
      "cell_type": "code",
      "source": [
        "#Class Non Fiksi\n",
        "class Non_Fiksi(Buku):\n",
        " def __init__(self, kode_unik, judul, nama_pengarang, tahun_terbit, subjek):\n",
        "  super().__init__(kode_unik, judul, nama_pengarang, tahun_terbit)\n",
        "  self.subjek = subjek\n",
        "\n",
        "#panggil fungsi deskripsi dari induk dan  override kan lah metode deskripsi\n",
        " def deskripsi(self):\n",
        "  super().deskripsi()\n",
        "  print('--> dengan subjek atau topik', self.subjek)"
      ],
      "metadata": {
        "id": "fV76ZsOapgyM"
      },
      "execution_count": null,
      "outputs": []
    },
    {
      "cell_type": "code",
      "source": [
        "#Program utama\n",
        "#penggunaan masing-masing jenis class buku\n",
        "\n",
        "#membuat objek Buku fiksi\n",
        "buku1= Fiksi(\"'130706'\", \"'Azzura'\", \"'Ayara'\", \"'2006'\", \"'Romansa'\")\n",
        "\n",
        "#membuat objek Buku Non Fiksi\n",
        "buku2= Non_Fiksi(\"'41006'\", \"'The Alpha Girl's'\", \"'Henry Manampiring'\", \"'2015'\", \"'bantuan diri'\")\n",
        "\n",
        "#informasi buku Fiksi\n",
        "print(\"Informasi Buku Fiksi :\")\n",
        "\n",
        "#memanggil objek deskripsi yang telah di override\n",
        "buku1.deskripsi()\n",
        "\n",
        "#informasi buku Non Fiksi\n",
        "print(\"Informasi Buku Non Fiksi :\")\n",
        "\n",
        "#memanggil objek deskripsi yang telah di override\n",
        "buku2.deskripsi()"
      ],
      "metadata": {
        "id": "vTjvZzu1pjM6",
        "colab": {
          "base_uri": "https://localhost:8080/"
        },
        "outputId": "a84acd1e-b470-4492-859d-521c13b20df8"
      },
      "execution_count": 16,
      "outputs": [
        {
          "output_type": "stream",
          "name": "stdout",
          "text": [
            "Informasi Buku Fiksi :\n",
            "kode unik buku  '130706' dengan judul 'Azzura' dan nama pengarang 'Ayara' terbit pada tahun '2006'\n",
            "--> bergenre 'Romansa'\n",
            "Informasi Buku Non Fiksi :\n",
            "kode unik buku  '41006' dengan judul 'The Alpha Girl's' dan nama pengarang 'Henry Manampiring' terbit pada tahun '2015'\n",
            "--> dengan subjek atau topik 'bantuan diri'\n"
          ]
        }
      ]
    },
    {
      "cell_type": "markdown",
      "source": [
        "## Penjelasan\n",
        "Class 'Buku' adalah class induk dengan 'atribut' kode buku, judul, pengarang, dan tahun terbit. Fungsi 'deskripsi' dalam kelas ini mencetak deskripsi umum tentang buku.\n",
        "\n",
        "Class 'Fiksi' mewarisi dari class 'Buku' dan memiliki 'atribut' tambahan genre. Fungsi 'deskripsi' dalam class ini memanggil fungsi deskripsi dari class 'induk/Buku' dan mencetak informasi tambahan tentang buku fiksi, yaitu 'genre'\n",
        "\n",
        "Class 'Non Fiksi' juga mewarisi dari 'class' 'Buku' dan memiliki 'atribut' 'tambahan' subjek. Fungsi deskripsi dalam class ini juga memanggil 'fungsi' deskripsi dari class induk dan mencetak informasi tambahan tentang buku non-fiksi, yaitu 'subjek'"
      ],
      "metadata": {
        "id": "S6oTzmrXnsT5"
      }
    }
  ]
}